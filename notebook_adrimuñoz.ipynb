{
 "cells": [
  {
   "cell_type": "markdown",
   "id": "6eaeaad7",
   "metadata": {},
   "source": [
    "# Data Science Tools and Ecosystem"
   ]
  },
  {
   "cell_type": "markdown",
   "id": "b10613fe",
   "metadata": {},
   "source": [
    "In this notebook, Data Science Tools and Ecosystem are summarized.\n"
   ]
  },
  {
   "cell_type": "markdown",
   "id": "a0ce226a",
   "metadata": {},
   "source": [
    "Some of the popular languages that Data Scientists use are:\n",
    "\n",
    "\t1. Python\n",
    "\t2. R\n",
    "\t3. Julia"
   ]
  },
  {
   "cell_type": "markdown",
   "id": "43d8b3d9",
   "metadata": {},
   "source": [
    "\n",
    "    Some of the commonly used libraries used by Data Scientists include:\n",
    "\n",
    "    1. Pandas\n",
    "    2. Numpy\n",
    "    3. Seaborn\n",
    "   "
   ]
  },
  {
   "cell_type": "markdown",
   "id": "aba5412c",
   "metadata": {},
   "source": [
    "| Data Science Tools|\n",
    "| ------------------|\n",
    "| RStudio |\n",
    "| Jupyter |\n",
    "| VSCode | "
   ]
  },
  {
   "cell_type": "markdown",
   "id": "3b5501be",
   "metadata": {},
   "source": [
    "### Below are a few examples of evaluating arithmetic expressions in Python"
   ]
  },
  {
   "cell_type": "code",
   "execution_count": 2,
   "id": "1c181fb6",
   "metadata": {},
   "outputs": [
    {
     "data": {
      "text/plain": [
       "17"
      ]
     },
     "execution_count": 2,
     "metadata": {},
     "output_type": "execute_result"
    }
   ],
   "source": [
    "# This a simple arithmetic expression to mutiply then add integers\n",
    "(3*4)+5"
   ]
  },
  {
   "cell_type": "code",
   "execution_count": 3,
   "id": "63b9a9d1",
   "metadata": {},
   "outputs": [
    {
     "data": {
      "text/plain": [
       "3.3333333333333335"
      ]
     },
     "execution_count": 3,
     "metadata": {},
     "output_type": "execute_result"
    }
   ],
   "source": [
    "# This will convert 200 minutes to hours by diving by 60\n",
    "\n",
    "200 / 60\n"
   ]
  },
  {
   "cell_type": "markdown",
   "id": "d52d67b4",
   "metadata": {},
   "source": [
    "**Objectives:**\n",
    "\n",
    "* Languages\n",
    "* Tools\n",
    "* Markdown files"
   ]
  },
  {
   "cell_type": "markdown",
   "id": "d2b98c04",
   "metadata": {},
   "source": [
    "## Author\n",
    "Adrián Muñoz"
   ]
  },
  {
   "cell_type": "code",
   "execution_count": null,
   "id": "efc3df8b",
   "metadata": {},
   "outputs": [],
   "source": []
  }
 ],
 "metadata": {
  "kernelspec": {
   "display_name": "Python 3",
   "language": "python",
   "name": "python3"
  },
  "language_info": {
   "codemirror_mode": {
    "name": "ipython",
    "version": 3
   },
   "file_extension": ".py",
   "mimetype": "text/x-python",
   "name": "python",
   "nbconvert_exporter": "python",
   "pygments_lexer": "ipython3",
   "version": "3.8.8"
  }
 },
 "nbformat": 4,
 "nbformat_minor": 5
}
